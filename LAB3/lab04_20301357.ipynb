{
 "cells": [
  {
   "cell_type": "code",
   "execution_count": 3,
   "metadata": {},
   "outputs": [
    {
     "name": "stdout",
     "output_type": "stream",
     "text": [
      "Method: add(int a, int b) , Return type: int\n",
      "Method: subtract(int a, int b) , Return type: int\n",
      "Method: add() , Return type: void\n"
     ]
    }
   ],
   "source": [
    "def parse_java_code(java_code):\n",
    "    a= java_code.split(\"\\n\")\n",
    "    meth=[]\n",
    "    state=0\n",
    "    for i in a:\n",
    "        if \"public\" in i and \"class\" in i:\n",
    "            continue\n",
    "        if (\"public\" in i and \"main\" not in i):\n",
    "            meth+=[i]\n",
    "    if len(meth)>0:\n",
    "        state+=1\n",
    "    first_state=state\n",
    "    for j in meth:\n",
    "        state=first_state\n",
    "        part1 = (j.split(\"public\")[1].strip())\n",
    "        i = 0\n",
    "        return_type = \"\"\n",
    "        check = True\n",
    "        while check:\n",
    "            if part1[i] == \" \":\n",
    "                if return_type == \"static\":\n",
    "                    return_type = \"\"\n",
    "                else:\n",
    "                    check = False\n",
    "                    state+=1\n",
    "            else:\n",
    "                return_type+=part1[i]\n",
    "                \n",
    "            i+=1\n",
    "        if state==2:\n",
    "            close=part1.find(\")\")\n",
    "            \n",
    "            print(\"Method:\",part1[i:close+1],\", Return type:\",return_type)\n",
    "            \n",
    "    \n",
    "a=open(\"input.txt\",\"r\") \n",
    "\n",
    "parse_java_code(a.read())\n"
   ]
  },
  {
   "cell_type": "code",
   "execution_count": null,
   "metadata": {},
   "outputs": [],
   "source": []
  }
 ],
 "metadata": {
  "kernelspec": {
   "display_name": "Python 3",
   "language": "python",
   "name": "python3"
  },
  "language_info": {
   "codemirror_mode": {
    "name": "ipython",
    "version": 3
   },
   "file_extension": ".py",
   "mimetype": "text/x-python",
   "name": "python",
   "nbconvert_exporter": "python",
   "pygments_lexer": "ipython3",
   "version": "3.7.6"
  }
 },
 "nbformat": 4,
 "nbformat_minor": 4
}
