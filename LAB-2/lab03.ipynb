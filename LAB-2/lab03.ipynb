{
 "cells": [
  {
   "cell_type": "code",
   "execution_count": 2,
   "metadata": {},
   "outputs": [
    {
     "name": "stdout",
     "output_type": "stream",
     "text": [
      "yes 3\n",
      "yes 1\n",
      "No 0\n",
      "No 0\n",
      "yes 2\n"
     ]
    }
   ],
   "source": [
    "import re\n",
    "a= open(\"input2.txt\",\"r\")\n",
    "inp=a.readline()\n",
    "regular_expression=[]\n",
    "\n",
    "for i in range (int(inp)):\n",
    "    b = a.readline().strip(\"\\n\")\n",
    "    regular_expression.append(b)\n",
    "    \n",
    "string_input=a.readline()\n",
    "string=[]\n",
    "\n",
    "for i in range(int(string_input)):\n",
    "    c =  a.readline().strip(\"\\n\")\n",
    "    string.append(c)\n",
    "    \n",
    "for i in range(len(string)):\n",
    "    count=0\n",
    "    for j in range(len(regular_expression)):\n",
    "        check = re.fullmatch(regular_expression[j],string[i])\n",
    "        if check:\n",
    "            flag=j+1\n",
    "            count+=1\n",
    "            break\n",
    "    if count==0:\n",
    "        print(\"No\",0)\n",
    "    if count>0:\n",
    "        print(\"yes\",flag)\n",
    "\n"
   ]
  },
  {
   "cell_type": "code",
   "execution_count": null,
   "metadata": {},
   "outputs": [],
   "source": []
  }
 ],
 "metadata": {
  "kernelspec": {
   "display_name": "Python 3",
   "language": "python",
   "name": "python3"
  },
  "language_info": {
   "codemirror_mode": {
    "name": "ipython",
    "version": 3
   },
   "file_extension": ".py",
   "mimetype": "text/x-python",
   "name": "python",
   "nbconvert_exporter": "python",
   "pygments_lexer": "ipython3",
   "version": "3.7.6"
  }
 },
 "nbformat": 4,
 "nbformat_minor": 4
}
